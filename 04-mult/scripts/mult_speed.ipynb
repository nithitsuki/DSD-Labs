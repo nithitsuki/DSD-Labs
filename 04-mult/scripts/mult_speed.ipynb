{
 "cells": [
  {
   "cell_type": "code",
   "execution_count": null,
   "id": "56e7b4c2",
   "metadata": {},
   "outputs": [],
   "source": [
    "# Basic imports.  Not all may be required.\n",
    "from pynq import Overlay\n",
    "from pynq.ps import Clocks\n",
    "import numpy as np\n",
    "import random\n",
    "import time"
   ]
  },
  {
   "cell_type": "code",
   "execution_count": null,
   "id": "b9f1104c",
   "metadata": {},
   "outputs": [],
   "source": [
    "# Load the overlay to the design\n",
    "overlay = Overlay('speed_test.bit')"
   ]
  },
  {
   "cell_type": "code",
   "execution_count": null,
   "id": "fed727b9",
   "metadata": {},
   "outputs": [],
   "source": [
    "def send_data(overlay, values):\n",
    "    N = len(values)  # Number of words - should be multiple of 2\n",
    "    r = overlay.axi_fifo_mm_s_0.register_map\n",
    "    r.ISR = 0xFFFFFFFF  # Clear all interrupts\n",
    "    r.IER=0x0C000000    # Enable TX and RX complete interrupts\n",
    "    r.TDR=0             # Destination - not used\n",
    "    for i in values:    # Send the data\n",
    "        r.TDFD = i\n",
    "    r.TLR = N * 4       # Set length for transmission\n",
    "    "
   ]
  },
  {
   "cell_type": "code",
   "execution_count": null,
   "id": "2a42af12",
   "metadata": {},
   "outputs": [],
   "source": [
    "def recv_data(overlay):\n",
    "    # Assumes send has already been done\n",
    "    r = overlay.axi_fifo_mm_s_0.register_map\n",
    "    rx = r.RDFO\n",
    "#     print(f\"{rx} values remaining to be read\")\n",
    "    values = []\n",
    "    for i in range(rx):\n",
    "        values.append(r.RDFD.Read_Data_Value)\n",
    "    return values"
   ]
  },
  {
   "cell_type": "code",
   "execution_count": null,
   "id": "9d891f38",
   "metadata": {},
   "outputs": [],
   "source": [
    "def check_errors(out, expout):\n",
    "    count = 0\n",
    "    for (x, y) in zip(out, expout):\n",
    "        if x != y:\n",
    "            print(f\"exp: {y} ({y:08x}): error: {x^y:08x}\")\n",
    "            count += 1\n",
    "    print(f\"{count} out of {len(out)} errors\")\n",
    "    return count"
   ]
  },
  {
   "cell_type": "code",
   "execution_count": null,
   "id": "4486e1d5",
   "metadata": {},
   "outputs": [],
   "source": [
    "from random import randint\n",
    "N=16\n",
    "inputs = []\n",
    "expout = []\n",
    "for i in range(N):\n",
    "    a = randint(-2**31, 2**31-1)\n",
    "    b = randint(-2**31, 2**31-1)\n",
    "    # c = (a * b) & 0xFFFFFFFF\n",
    "    c = (a*a + b*b) & 0xFFFFFFFF # Change to this to test squaring and adding\n",
    "    inputs.append(a)\n",
    "    inputs.append(b)\n",
    "    expout.append(c)\n",
    "m = 0xFFFFFFFF\n",
    "inputs.append(m)\n",
    "inputs.append(m)\n",
    "expout.append((m*m) & m)\n",
    "# print(inputs)\n",
    "# print(expout)"
   ]
  },
  {
   "cell_type": "code",
   "execution_count": null,
   "id": "51056474",
   "metadata": {},
   "outputs": [],
   "source": [
    "# Set up clocks\n",
    "print(f\"CPU Clock frequency = {Clocks.cpu_mhz} MHz\")\n",
    "Clocks.fclk0_mhz=100\n",
    "Clocks.fclk1_mhz=200\n",
    "print(f\"Set AXI clock to {Clocks.fclk0_mhz} MHz, PL clock to {Clocks.fclk1_mhz} MHz\")"
   ]
  },
  {
   "cell_type": "code",
   "execution_count": null,
   "id": "21800c2c",
   "metadata": {},
   "outputs": [],
   "source": [
    "send_data(overlay, inputs)"
   ]
  },
  {
   "cell_type": "code",
   "execution_count": null,
   "id": "a6f4199e",
   "metadata": {},
   "outputs": [],
   "source": [
    "rx = recv_data(overlay)"
   ]
  },
  {
   "cell_type": "code",
   "execution_count": null,
   "id": "da14a0ad",
   "metadata": {},
   "outputs": [],
   "source": [
    "numerrors = check_errors(rx, expout)"
   ]
  },
  {
   "cell_type": "code",
   "execution_count": null,
   "id": "843a69ea",
   "metadata": {},
   "outputs": [],
   "source": []
  }
 ],
 "metadata": {
  "kernelspec": {
   "display_name": "Python 3 (ipykernel)",
   "language": "python",
   "name": "python3"
  },
  "language_info": {
   "codemirror_mode": {
    "name": "ipython",
    "version": 3
   },
   "file_extension": ".py",
   "mimetype": "text/x-python",
   "name": "python",
   "nbconvert_exporter": "python",
   "pygments_lexer": "ipython3",
   "version": "3.10.4"
  }
 },
 "nbformat": 4,
 "nbformat_minor": 5
}
